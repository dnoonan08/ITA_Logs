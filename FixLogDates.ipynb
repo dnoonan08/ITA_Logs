{
 "cells": [
  {
   "cell_type": "code",
   "execution_count": 1,
   "metadata": {},
   "outputs": [],
   "source": [
    "import pandas as pd\n",
    "import glob"
   ]
  },
  {
   "cell_type": "code",
   "execution_count": 6,
   "metadata": {},
   "outputs": [],
   "source": [
    "a=pd.to_datetime(\"2021-12-16 11:03:46\") #timestamp from arrival of first beam pulse\n",
    "b=pd.to_datetime('1972-02-16 19:28:45') #timestamp from I2C log corresponding to first beam pulse\n",
    "dec16Offset=a-b\n",
    "\n",
    "dec16Files = glob.glob('I2C_Logs/*Dec16*')\n",
    "\n",
    "a=pd.to_datetime(\"2021-12-15 17:11:00\") #timestamp of when we started at 245mm\n",
    "b=pd.to_datetime('1970-01-01 08:44:15') #beginning of 245mm log\n",
    "\n",
    "dec15Offset=a-b\n",
    "dec15Files = glob.glob('I2C_Logs/*Dec15*')\n"
   ]
  },
  {
   "cell_type": "code",
   "execution_count": 7,
   "metadata": {},
   "outputs": [
    {
     "name": "stdout",
     "output_type": "stream",
     "text": [
      "\u0000\u0000\u0000\u0000\u0000\u0000\u0000\u0000\u0000\u0000\u0000\u0000\u0000\u0000\u0000\u0000\u0000\u0000\u0000\u0000\u0000\u0000\u0000\u0000\u0000\u0000\u0000\u0000\u0000\u0000\u0000\u0000\u0000\u0000\u0000\u0000\u0000\u0000\u0000\u0000\u0000\u0000\u0000\u0000\u0000\u0000\u0000\u0000\u0000\u0000\u0000\u0000\u0000\u0000\u0000\u0000\u0000\u0000\u0000\u0000\u0000\u0000\u0000\u0000\u0000\u0000\u0000\u0000\u0000\u0000\u0000\u0000\u0000\u0000\u0000\u0000\u0000\u0000\u0000\u0000\u0000\u0000\u0000\u0000\u0000\u0000\u0000\u0000\u0000\u0000\u0000\u0000\u0000\u0000\u0000\u0000\u0000\u0000\u0000\u0000\u0000\u0000\u0000\u0000\u0000\u0000\u0000\u0000\u0000\u0000\u0000\u0000\u0000\u0000\u0000\u0000\u0000\u0000\u0000\u0000\u0000\u0000\u0000\u0000\u0000\u0000\u0000\u0000\u0000\u0000\u0000\u0000\u0000\u0000\u0000\u0000\u0000\u0000\u0000\u0000\u0000\u0000\u0000\n"
     ]
    }
   ],
   "source": [
    "for fName in dec15Files:\n",
    "    output=''\n",
    "    with open(fName) as _file:\n",
    "        for line in _file:\n",
    "            if ' INFO ' in line:\n",
    "                x=line.split(' INFO ')\n",
    "                output += str(pd.to_datetime(x[0])+dec15Offset) + ' INFO ' + ''.join(x[1:])\n",
    "            else:\n",
    "                print(line)\n",
    "    with open(fName.replace('I2C_Logs','I2C_Logs_FixedDates'),'w') as _file:\n",
    "        _file.write(output)\n",
    "        \n",
    "for fName in dec16Files:\n",
    "    output=''\n",
    "    with open(fName) as _file:\n",
    "        for line in _file:\n",
    "            if ' INFO ' in line:\n",
    "                x=line.split(' INFO ')\n",
    "                output += str(pd.to_datetime(x[0])+dec16Offset) + ' INFO ' + ''.join(x[1:])\n",
    "            else:\n",
    "                print(line)\n",
    "    with open(fName.replace('I2C_Logs','I2C_Logs_FixedDates'),'w') as _file:\n",
    "        _file.write(output)"
   ]
  },
  {
   "cell_type": "code",
   "execution_count": 4,
   "metadata": {},
   "outputs": [],
   "source": [
    "a=pd.to_datetime('2021-12-17 11:16:10')#first beam of the day\n",
    "b=pd.to_datetime('1970-01-01 02:25:22,930')#first RO errors of the day (reset of aligner status)\n",
    "dec17Offset_p1=a-b\n",
    "dec17FileList_p1 = ['I2C_Logs/i2cLog_Dec17_282.log']\n",
    "\n",
    "a=pd.to_datetime('2021-12-17 13:41:47')\n",
    "b=pd.to_datetime('1970-01-01 01:50:56') #first RO errors in v3 (after beam turned off to fix motion table)\n",
    "dec17Offset_p2=a-b\n",
    "dec17Files_p2 = glob.glob('I2C_Logs/i2cLog_Dec17_282_*log')\n"
   ]
  },
  {
   "cell_type": "code",
   "execution_count": 5,
   "metadata": {},
   "outputs": [
    {
     "name": "stdout",
     "output_type": "stream",
     "text": [
      "\u0000\u0000\u0000\u0000\u0000\u0000\u0000\u0000\u0000\u0000\u0000\u0000\u0000\u0000\u0000\u0000\u0000\u0000\u0000\u0000\u0000\u0000\u0000\u0000\u0000\u0000\u0000\u0000\u0000\u0000\u0000\u0000\u0000\u0000\u0000\u0000\u0000\u0000\u0000\u0000\u0000\u0000\u0000\u0000\u0000\u0000\u0000\u0000\u0000\u0000\u0000\u0000\u0000\u0000\u0000\u0000\u0000\u0000\u0000\u0000\u0000\u0000\u0000\u0000\u0000\u0000\u0000\u0000\u0000\u0000\u0000\u0000\u0000\u0000\u0000\u0000\u0000\u0000\u0000\u0000\u0000\u0000\u0000\u0000\u0000\u0000\u0000\u0000\u0000\u0000\u0000\u0000\u0000\u0000\u0000\u0000\u0000\u0000\u0000\u0000\u0000\u0000\u0000\u0000\u0000\u0000\u0000\u0000\u0000\u0000\u0000\u0000\u0000\u0000\u0000\u0000\u0000\u0000\u0000\u0000\u0000\u0000\u0000\u0000\u0000\u0000\u0000\u0000\u0000\u0000\u0000\u0000\u0000\u0000\u0000\u0000\u0000\u0000\u0000\u0000\u0000\u0000\u0000\u0000\u0000\u0000\n"
     ]
    }
   ],
   "source": [
    "for fName in dec17FileList_p1:\n",
    "    output=''\n",
    "    with open(fName) as _file:\n",
    "        for line in _file:\n",
    "            if ' INFO ' in line:\n",
    "                x=line.split(' INFO ')\n",
    "                output += str(pd.to_datetime(x[0])+dec17Offset_p1) + ' INFO ' + ''.join(x[1:])\n",
    "            else:\n",
    "                print(line)\n",
    "    with open(fName.replace('I2C_Logs','I2C_Logs_FixedDates'),'w') as _file:\n",
    "        _file.write(output)\n",
    "\n",
    "for fName in dec17Files_p2:\n",
    "    output=''\n",
    "    with open(fName) as _file:\n",
    "        for line in _file:\n",
    "            if ' INFO ' in line:\n",
    "                x=line.split(' INFO ')\n",
    "                output += str(pd.to_datetime(x[0])+dec17Offset_p2) + ' INFO ' + ''.join(x[1:])\n",
    "            else:\n",
    "                print(line)\n",
    "    with open(fName.replace('I2C_Logs','I2C_Logs_FixedDates'),'w') as _file:\n",
    "        _file.write(output)        "
   ]
  }
 ],
 "metadata": {
  "kernelspec": {
   "display_name": "Python 3",
   "language": "python",
   "name": "python3"
  },
  "language_info": {
   "codemirror_mode": {
    "name": "ipython",
    "version": 3
   },
   "file_extension": ".py",
   "mimetype": "text/x-python",
   "name": "python",
   "nbconvert_exporter": "python",
   "pygments_lexer": "ipython3",
   "version": "3.7.5"
  }
 },
 "nbformat": 4,
 "nbformat_minor": 2
}
